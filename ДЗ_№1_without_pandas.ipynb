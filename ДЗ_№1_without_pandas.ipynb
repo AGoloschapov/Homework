{
 "cells": [
  {
   "cell_type": "markdown",
   "metadata": {},
   "source": [
    "# Задание 1\n"
   ]
  },
  {
   "cell_type": "markdown",
   "metadata": {},
   "source": [
    "1. Попробуйте используя встроенные инструменты Python проанализировать таблицу из файла \"vacancy_nh.csv\"\n",
    "В задании важно не использовать pandas и numpy, а использовать встроенные инструменты python (Counter, CSV, defaultdict, sorted)\n",
    "2. Попробуйте ответить на вопросы:\n",
    "\n",
    " * Сколько всего вакансий?\n",
    " * За какой период эти вакансии?\n",
    " * Есть ли вакансии менеджеров с использованием Python, если да сколько их?\n",
    " * Сколько вакансий для аналатика данных?\n",
    " * Сколько вакансий для аналитика данных с использованием Python?"
   ]
  },
  {
   "cell_type": "code",
   "execution_count": 33,
   "metadata": {},
   "outputs": [],
   "source": [
    "import csv\n",
    "import sys\n",
    "from datetime import datetime as dt"
   ]
  },
  {
   "cell_type": "code",
   "execution_count": 18,
   "metadata": {},
   "outputs": [
    {
     "data": {
      "text/plain": [
       "99999999"
      ]
     },
     "execution_count": 18,
     "metadata": {},
     "output_type": "execute_result"
    }
   ],
   "source": [
    "csv.field_size_limit(99999999)"
   ]
  },
  {
   "cell_type": "code",
   "execution_count": 20,
   "metadata": {},
   "outputs": [],
   "source": [
    "vacs = list(csv.DictReader(open('vacancy_nh.csv', encoding='utf-8')))"
   ]
  },
  {
   "cell_type": "code",
   "execution_count": 21,
   "metadata": {},
   "outputs": [
    {
     "data": {
      "text/plain": [
       "{'id': '383479',\n",
       " 'created_at': '2021-03-14 09:39:21.854462',\n",
       " 'updated_at': '2021-03-14 09:39:21.854584',\n",
       " 'vacid': '1474941',\n",
       " 'vactitle': 'Senior java-разработчик (в команду Онбординга)',\n",
       " 'vacdescription': ' Работа у нас — это:команда профессионалов, готовых поддержать ваши инициативы;мощное железо, дополнительные мониторы и всё, что нужно для продуктивной работы;обучение за счёт компании;гибкий графиккрасивый и комфортный офис  г. Санкт-Петербург, м. Ладожская  пл. Карла Фаберже 8 ВДМС;прозрачная система бонусов и премий, достойная зарплата — размер обсудим на собеседовании.Информация о проекте:Наша команда делает новые экспериментальные фичи для СБОЛа.Сейчас мы разрабатываем систему, с помощью которой разные команды Сбера смогут создавать квесты для мобильного приложения.Также мы будем разрабатывать внутреннюю платформу для продуктовых экспериментов. Описание команды:2-pizza team: сейчас у нас работают разработчики iOS и Android, продакт и аналитик. К команде в ближайшее время подключится тестировщик и еще один аналитик. Мы ожидаем, что Вы:Работали раннее в продуктовой agile-команде;Имеете опыт работы больше 4 лет с Java и ее экосистемой;Владеете Spring: Core, MVC, Boot, Cloud;Работали с реляционными БД;Трепетно относитесь к тестовому покрытию;Будете относиться с заботой к нашим пользователям, продукту и команде. Будет здорово, если вы:Умеете готовить ansible;Работали с k8s;Использовали kafka;Умеете оптимизировать SQL-запросы. Вам предстоит:отвечать за качество технических решений;придумывать реализацию для безумных идей наших продактов;разрабатывать сервисы, интегрироваться с множеством систем банка.Информация о проекте:Наша команда делает новые экспериментальные фичи для СБОЛа.Сейчас мы разрабатываем систему, с помощью которой разные команды Сбера смогут создавать квесты для мобильного приложения.Также мы будем разрабатывать внутреннюю платформу для продуктовых экспериментов. Описание команды:2-pizza team: сейчас у нас работают разработчики iOS и Android, продакт и аналитик. К команде в ближайшее время подключится тестировщик и еще один аналитик. Мы ожидаем, что Вы:Работали раннее в продуктовой agile-команде;Имеете опыт работы больше 4 лет с Java и ее экосистемой;Владеете Spring: Core, MVC, Boot, Cloud;Работали с реляционными БД;Трепетно относитесь к тестовому покрытию;Будете относиться с заботой к нашим пользователям, продукту и команде. Будет здорово, если вы:Умеете готовить ansible;Работали с k8s;Использовали kafka;Умеете оптимизировать SQL-запросы. Вам предстоит:отвечать за качество технических решений;придумывать реализацию для безумных идей наших продактов;разрабатывать сервисы, интегрироваться с множеством систем банка. Работа у нас — это:команда профессионалов, готовых поддержать ваши инициативы;мощное железо, дополнительные мониторы и всё, что нужно для продуктивной работы;обучение за счёт компании;гибкий графиккрасивый и комфортный офис  г. Санкт-Петербург, м. Ладожская  пл. Карла Фаберже 8 ВДМС;прозрачная система бонусов и премий, достойная зарплата — размер обсудим на собеседовании.',\n",
       " 'vacdate': '2021-03-15',\n",
       " 'vacstatus': 'new',\n",
       " 'vaclink': 'https://my.sbertalents.ru/#/job-requisition/1474941'}"
      ]
     },
     "execution_count": 21,
     "metadata": {},
     "output_type": "execute_result"
    }
   ],
   "source": [
    "vacs[0]"
   ]
  },
  {
   "cell_type": "code",
   "execution_count": 23,
   "metadata": {},
   "outputs": [
    {
     "data": {
      "text/plain": [
       "4002"
      ]
     },
     "execution_count": 23,
     "metadata": {},
     "output_type": "execute_result"
    }
   ],
   "source": [
    "# Сколько всего вакансий?\n",
    "total_vacs = len(vacs)\n",
    "total_vacs"
   ]
  },
  {
   "cell_type": "code",
   "execution_count": 56,
   "metadata": {},
   "outputs": [
    {
     "name": "stdout",
     "output_type": "stream",
     "text": [
      "2020-10-15 - 2021-03-17\n"
     ]
    }
   ],
   "source": [
    "# За какой период эти вакансии?\n",
    "dates = []\n",
    "for vac in vacs:\n",
    "    if vac['vacdate'] == '':\n",
    "        continue\n",
    "    else:\n",
    "        dates.append(dt.strptime(vac['vacdate'], '%Y-%m-%d'))\n",
    "\n",
    "print(min(dates).date(),'-',max(dates).date())"
   ]
  },
  {
   "cell_type": "code",
   "execution_count": 46,
   "metadata": {},
   "outputs": [
    {
     "name": "stdout",
     "output_type": "stream",
     "text": [
      "5\n"
     ]
    }
   ],
   "source": [
    "# Есть ли вакансии менеджеров с использованием Python, если да сколько их?\n",
    "python_manager = []\n",
    "for vac in vacs:\n",
    "    if 'менеджер' in vac['vactitle'].lower() and 'python' in vac['vacdescription'].lower():\n",
    "        python_manager.append(vac)\n",
    "\n",
    "print(len(python_manager))"
   ]
  },
  {
   "cell_type": "code",
   "execution_count": 50,
   "metadata": {},
   "outputs": [
    {
     "name": "stdout",
     "output_type": "stream",
     "text": [
      "42\n"
     ]
    }
   ],
   "source": [
    "# Сколько вакансий для аналатика данных?\n",
    "data_analyst = []\n",
    "for vac in vacs:\n",
    "    if 'аналитик данных' in vac['vactitle'].lower() or 'data analyst' in vac['vactitle'].lower():\n",
    "        data_analyst.append(vac)\n",
    "\n",
    "print(len(data_analyst))"
   ]
  },
  {
   "cell_type": "code",
   "execution_count": 51,
   "metadata": {},
   "outputs": [
    {
     "name": "stdout",
     "output_type": "stream",
     "text": [
      "23\n"
     ]
    }
   ],
   "source": [
    "# Сколько вакансий для аналитика данных с использованием Python?\n",
    "data_analyst_python = []\n",
    "for vac in vacs:\n",
    "    if ('аналитик данных' in vac['vactitle'].lower() or 'data analyst' in vac['vactitle'].lower()) and 'python' in vac['vacdescription'].lower():\n",
    "        data_analyst_python.append(vac)\n",
    "\n",
    "print(len(data_analyst_python))"
   ]
  }
 ],
 "metadata": {
  "kernelspec": {
   "display_name": "Python 3",
   "language": "python",
   "name": "python3"
  },
  "language_info": {
   "codemirror_mode": {
    "name": "ipython",
    "version": 3
   },
   "file_extension": ".py",
   "mimetype": "text/x-python",
   "name": "python",
   "nbconvert_exporter": "python",
   "pygments_lexer": "ipython3",
   "version": "3.12.5"
  }
 },
 "nbformat": 4,
 "nbformat_minor": 4
}
