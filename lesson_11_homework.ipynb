{
 "cells": [
  {
   "cell_type": "markdown",
   "metadata": {
    "id": "pDrecLU-4QjS"
   },
   "source": [
    "# Практика"
   ]
  },
  {
   "cell_type": "markdown",
   "metadata": {
    "id": "gUvTNDlMaV-a"
   },
   "source": [
    "## Определение вероятности. События\n",
    "\n",
    "Требуется сгенерировать необходимые выборки и произвести по ним расчеты"
   ]
  },
  {
   "cell_type": "code",
   "execution_count": 1,
   "metadata": {},
   "outputs": [],
   "source": [
    "import random"
   ]
  },
  {
   "cell_type": "markdown",
   "metadata": {
    "id": "5V70InEBTgup"
   },
   "source": [
    "### Задача 1\n",
    "Брошено две монеты. Найти вероятность того, что монеты выпали разными сторонами\n",
    "\n",
    "_Ответ: 0.5_"
   ]
  },
  {
   "cell_type": "code",
   "execution_count": 22,
   "metadata": {
    "id": "88Iw-SL3jYQV"
   },
   "outputs": [
    {
     "name": "stdout",
     "output_type": "stream",
     "text": [
      "False\n"
     ]
    }
   ],
   "source": [
    "def flip_coins():\n",
    "    coin_1 = random.choice(['O', 'P'])\n",
    "    coin_2 = random.choice(['O', 'P'])\n",
    "    return coin_1 != coin_2\n",
    "\n",
    "print(flip_coins())"
   ]
  },
  {
   "cell_type": "code",
   "execution_count": 23,
   "metadata": {},
   "outputs": [
    {
     "name": "stdout",
     "output_type": "stream",
     "text": [
      "Вероятность выпадения монет разными сторонами - 0.49884\n"
     ]
    }
   ],
   "source": [
    "n = 100000\n",
    "counter = 0\n",
    "\n",
    "for i in range(n):\n",
    "    if flip_coins():\n",
    "        counter += 1\n",
    "\n",
    "probability = counter / n\n",
    "print(f'Вероятность выпадения монет разными сторонами - {probability}')"
   ]
  },
  {
   "cell_type": "markdown",
   "metadata": {
    "id": "t0XOMos2Tl0e"
   },
   "source": [
    "### Задача 2\n",
    "Брошено три монеты. Описать множество всех элементарных событий. Найти вероятности следующих событий:\n",
    "\n",
    "\n",
    "1.   A = {не выпало ни одного герба}\n",
    "2.   B = {выпало четное число гербов}\n",
    "3.   C = {на третьей монете выпал герб}\n",
    "\n",
    "_Ответы:  0.125, 0.375, 0.5_"
   ]
  },
  {
   "cell_type": "code",
   "execution_count": 65,
   "metadata": {
    "id": "o7NjAE9uUo-L"
   },
   "outputs": [
    {
     "name": "stdout",
     "output_type": "stream",
     "text": [
      "['O', 'O', 'O']\n"
     ]
    }
   ],
   "source": [
    "def flip_three_coins():\n",
    "    result = [random.choice(['O', 'P']) for _ in range(3)]\n",
    "    return result\n",
    "\n",
    "print(flip_three_coins())"
   ]
  },
  {
   "cell_type": "code",
   "execution_count": 67,
   "metadata": {},
   "outputs": [
    {
     "name": "stdout",
     "output_type": "stream",
     "text": [
      "12473 37470 50077\n"
     ]
    }
   ],
   "source": [
    "n = 100000\n",
    "count_A = 0\n",
    "count_B = 0\n",
    "count_C = 0\n",
    "\n",
    "for _ in range(n):\n",
    "    outcomes = flip_three_coins()\n",
    "\n",
    "    if outcomes == ['P', 'P', 'P']:\n",
    "        count_A += 1\n",
    "    if outcomes.count('O') == 2:\n",
    "        count_B += 1\n",
    "    if outcomes[2] == 'O':\n",
    "        count_C += 1\n",
    "\n",
    "print(count_A, count_B, count_C)"
   ]
  },
  {
   "cell_type": "code",
   "execution_count": 68,
   "metadata": {},
   "outputs": [
    {
     "name": "stdout",
     "output_type": "stream",
     "text": [
      "Не выпало ни одного герба, вероятность - 0.12473\n",
      "Выпало четное число гербов, вероятность - 0.3747\n",
      "На 3-й монете выпал герб, вероятность - 0.50077\n"
     ]
    }
   ],
   "source": [
    "print(f'Не выпало ни одного герба, вероятность - {count_A / n}')\n",
    "print(f'Выпало четное число гербов, вероятность - {count_B / n}')\n",
    "print(f'На 3-й монете выпал герб, вероятность - {count_C / n}')"
   ]
  },
  {
   "cell_type": "code",
   "execution_count": 1,
   "metadata": {},
   "outputs": [
    {
     "name": "stdout",
     "output_type": "stream",
     "text": [
      "8\n",
      "('O', 'O', 'O')\n",
      "('O', 'O', 'P')\n",
      "('O', 'P', 'O')\n",
      "('O', 'P', 'P')\n",
      "('P', 'O', 'O')\n",
      "('P', 'O', 'P')\n",
      "('P', 'P', 'O')\n",
      "('P', 'P', 'P')\n"
     ]
    }
   ],
   "source": [
    "# Множество всех элементарных событий\n",
    "possible_outcomes = ['O', 'P']\n",
    "elementary_events = [(i, j, k) for i in possible_outcomes for j in possible_outcomes for k in possible_outcomes]\n",
    "print(len(elementary_events), *elementary_events, sep='\\n')"
   ]
  },
  {
   "cell_type": "markdown",
   "metadata": {},
   "source": [
    "Предлагается также решить задачи: \n",
    "\n",
    "### Задача 3\n",
    "Из двух претендентов E и L на ответственную должность три члена комиссии должны отобрать одного. Каждый член комиссии должен указать либо одного достойного, либо забраковать обоих. Претендент считается выбранным, если он был признана достойным хотя бы двумя членами комиссии.\n",
    "Найти вероятность событий:\n",
    "\n",
    "A = {рекомендован L}, B = {рекомендован E}\n",
    "\n",
    "_Ответы: 0.26, 0.26_"
   ]
  },
  {
   "cell_type": "code",
   "execution_count": 78,
   "metadata": {},
   "outputs": [],
   "source": [
    "def voting_result():\n",
    "    '''Функция возвращает True или False для каждого кандидата.\n",
    "    N - означает, что оба кандидата забракованы'''\n",
    "    votes = [random.choice(['E', 'L', 'N']) for _ in range(3)]\n",
    "    return votes.count('L') >= 2, votes.count('E') >= 2"
   ]
  },
  {
   "cell_type": "code",
   "execution_count": 86,
   "metadata": {},
   "outputs": [
    {
     "data": {
      "text/plain": [
       "(26070, 25835)"
      ]
     },
     "execution_count": 86,
     "metadata": {},
     "output_type": "execute_result"
    }
   ],
   "source": [
    "n = 100000\n",
    "count_L = 0\n",
    "count_E = 0\n",
    "\n",
    "for _ in range(n):\n",
    "    L, E = voting_result()\n",
    "    if L:\n",
    "        count_L += 1\n",
    "    if E:\n",
    "        count_E += 1\n",
    "\n",
    "count_L, count_E"
   ]
  },
  {
   "cell_type": "code",
   "execution_count": 88,
   "metadata": {},
   "outputs": [
    {
     "name": "stdout",
     "output_type": "stream",
     "text": [
      "Рекомендован кандидат L - вероятность 0.26\n",
      "Рекомендован кандидат E - вероятность 0.26\n"
     ]
    }
   ],
   "source": [
    "print(f'Рекомендован кандидат L - вероятность {round(count_L/n, 2)}')\n",
    "print(f'Рекомендован кандидат E - вероятность {round(count_E/n, 2)}')"
   ]
  },
  {
   "cell_type": "markdown",
   "metadata": {
    "id": "peM38mVfYa5B"
   },
   "source": [
    "### Задача 4\n",
    "Брошено две игральных кости. Описать множество элементарных событий. Найти вероятности событий:\n",
    "\n",
    "A = {вышло две \"шестерки\"}\n",
    "\n",
    "B = {сумма выпавших очков не меньше 11}\n",
    "\n",
    "C = {не выпала ни одна \"шестерка\"}\n",
    "\n",
    "_Ответы (не забывайте о множестве элементарных событий): 0.028, 0.083, 0.7_"
   ]
  },
  {
   "cell_type": "code",
   "execution_count": 105,
   "metadata": {},
   "outputs": [
    {
     "data": {
      "text/plain": [
       "(2766, 8399, 69394)"
      ]
     },
     "execution_count": 105,
     "metadata": {},
     "output_type": "execute_result"
    }
   ],
   "source": [
    "n = 100000\n",
    "count_A = 0\n",
    "count_B = 0\n",
    "count_C = 0\n",
    "\n",
    "for _ in range(n):\n",
    "    result_1 = random.randint(1, 6)\n",
    "    result_2 = random.randint(1, 6)\n",
    "\n",
    "    if result_1 == 6 and result_2 == 6:\n",
    "        count_A += 1\n",
    "    if result_1 + result_2 >= 11:\n",
    "        count_B += 1\n",
    "    if result_1 != 6 and result_2 != 6:\n",
    "        count_C += 1\n",
    "\n",
    "count_A, count_B, count_C"
   ]
  },
  {
   "cell_type": "code",
   "execution_count": 106,
   "metadata": {},
   "outputs": [
    {
     "name": "stdout",
     "output_type": "stream",
     "text": [
      "Вышло две \"шестерки\" - вероятность 0.02766\n",
      "Cумма выпавших очков не меньше 11 - вероятность 0.08399\n",
      "Не выпала ни одна \"шестерка\" - вероятность 0.69394\n"
     ]
    }
   ],
   "source": [
    "print(f'Вышло две \"шестерки\" - вероятность {count_A/n}')\n",
    "print(f'Cумма выпавших очков не меньше 11 - вероятность {count_B/n}')\n",
    "print(f'Не выпала ни одна \"шестерка\" - вероятность {count_C/n}')"
   ]
  },
  {
   "cell_type": "code",
   "execution_count": 117,
   "metadata": {},
   "outputs": [
    {
     "name": "stdout",
     "output_type": "stream",
     "text": [
      "36\n",
      "[(1, 1), (1, 2), (1, 3), (1, 4), (1, 5), (1, 6), (2, 1), (2, 2), (2, 3), (2, 4), (2, 5), (2, 6), (3, 1), (3, 2), (3, 3), (3, 4), (3, 5), (3, 6), (4, 1), (4, 2), (4, 3), (4, 4), (4, 5), (4, 6), (5, 1), (5, 2), (5, 3), (5, 4), (5, 5), (5, 6), (6, 1), (6, 2), (6, 3), (6, 4), (6, 5), (6, 6)]\n"
     ]
    }
   ],
   "source": [
    "elementary_events = [(i, j) for i in range(1, 7) for j in range(1, 7)]\n",
    "print(len(elementary_events), elementary_events, sep='\\n')"
   ]
  },
  {
   "cell_type": "markdown",
   "metadata": {
    "id": "f-Bi0p8haclB"
   },
   "source": [
    "## Вероятность суммы событий"
   ]
  },
  {
   "cell_type": "markdown",
   "metadata": {
    "id": "g7A7QlvGTnwZ"
   },
   "source": [
    "### Задача 5\n",
    "Брошены две игральные кости. Найти вероятность события D = {выпала хотя бы одна шестёрка}\n",
    "\n",
    "_Ответ: 0.305_"
   ]
  },
  {
   "cell_type": "code",
   "execution_count": 120,
   "metadata": {
    "id": "vjtTJN-kUp9D"
   },
   "outputs": [
    {
     "name": "stdout",
     "output_type": "stream",
     "text": [
      "Выпала хотя бы одна шестёрка - вероятность 0.30454\n"
     ]
    }
   ],
   "source": [
    "n = 100000\n",
    "count = 0\n",
    "\n",
    "for _ in range(n):\n",
    "    result_1 = random.randint(1,6)\n",
    "    result_2 = random.randint(1,6)\n",
    "\n",
    "    if result_1 == 6 or result_2 == 6:\n",
    "        count += 1\n",
    "\n",
    "print(f'Выпала хотя бы одна шестёрка - вероятность {count/n}')"
   ]
  },
  {
   "cell_type": "markdown",
   "metadata": {
    "id": "R1bYSzQQbC6I"
   },
   "source": [
    "Предлагается также решить задачи: \n",
    "\n",
    "### Задача 6\n",
    "В телефонном номере три последние цифры стерлись. Считая, что все возможные значения стершихся цифр равновероятны, найти вероятность событий:\n",
    "\n",
    "A = {Стерлись различные цифры},\n",
    "\n",
    "B = {Стерлись одинаковые цифры},\n",
    "\n",
    "C = {Среди стершихся цифр хотя бы две совпадают},\n",
    "\n",
    "D = {Среди стершихся цифр хотя бы две различны}\n",
    "\n",
    "_Ответы: 0.72, 0.01, 0.28, 0.99_"
   ]
  },
  {
   "cell_type": "code",
   "execution_count": 39,
   "metadata": {},
   "outputs": [],
   "source": [
    "n = 100000\n",
    "\n",
    "count_A, count_B, count_C, count_D = 0, 0, 0, 0\n",
    "\n",
    "for _ in range(n):\n",
    "    digits = [random.randint(0,9) for _ in range(3)]\n",
    "    unique_digits_count = len(set(digits))\n",
    "\n",
    "    if unique_digits_count == 3:\n",
    "        count_A += 1\n",
    "    if unique_digits_count == 1:\n",
    "        count_B += 1\n",
    "    if unique_digits_count < 3:\n",
    "        count_C += 1\n",
    "    if unique_digits_count > 1:\n",
    "        count_D += 1\n"
   ]
  },
  {
   "cell_type": "code",
   "execution_count": 40,
   "metadata": {},
   "outputs": [
    {
     "name": "stdout",
     "output_type": "stream",
     "text": [
      "Стерлись различные цифры - вероятность 0.72141\n",
      "Стерлись одинаковые цифры - вероятность 0.00972\n",
      "Среди стершихся цифр хотя бы две совпадают 0.27859\n",
      "Среди стершихся цифр хотя бы две различны 0.99028\n"
     ]
    }
   ],
   "source": [
    "print(f'Стерлись различные цифры - вероятность {count_A/n}')\n",
    "print(f'Стерлись одинаковые цифры - вероятность {count_B/n}')\n",
    "print(f'Среди стершихся цифр хотя бы две совпадают {count_C/n}')\n",
    "print(f'Среди стершихся цифр хотя бы две различны {count_D/n}')"
   ]
  },
  {
   "cell_type": "markdown",
   "metadata": {
    "id": "RnugkR8BalK_"
   },
   "source": [
    "## Случайные величины"
   ]
  },
  {
   "cell_type": "markdown",
   "metadata": {
    "id": "yLoZDZ17UVsp"
   },
   "source": [
    "### Задача 7\n",
    "В лотерее имеется 10 билетов, из которых один выигрышный. Размер выигрыша 10 ден. ед.; стоимость билета 1 ден ед. Найти закон распределения случайной величины X, равной чистому выигрышу участника лотереи, который вытаскивает билет первым.\n",
    "\n",
    "_Ответ: закон распределения данной величины_"
   ]
  },
  {
   "cell_type": "code",
   "execution_count": 3,
   "metadata": {},
   "outputs": [],
   "source": [
    "import matplotlib.pyplot as plt"
   ]
  },
  {
   "cell_type": "code",
   "execution_count": 4,
   "metadata": {},
   "outputs": [
    {
     "data": {
      "image/png": "[encoded data removed]",
      "text/plain": [
       "<Figure size 640x480 with 1 Axes>"
      ]
     },
     "metadata": {},
     "output_type": "display_data"
    }
   ],
   "source": [
    "# Если вытянут выигрышный билет, то Х = 10-1 = 9\n",
    "# Иначе Х = 0-1 = -1\n",
    "X = [9, -1]\n",
    "\n",
    "# Вероятность выигрыша/проигрыша\n",
    "probabilities = [1/10, 9/10]\n",
    "\n",
    "# Построение графика распределения\n",
    "plt.bar(X, probabilities, width=0.8, color='blue')\n",
    "plt.xlabel('Чистый выигрыш (ден. ед.)')\n",
    "plt.ylabel('Вероятность')\n",
    "plt.title('Распределение случайной величины X')\n",
    "plt.xticks(X)\n",
    "plt.yticks([i/10 for i in range(0, 11)])\n",
    "plt.grid(axis='y', linestyle='-', alpha=0.3)\n",
    "plt.show()\n"
   ]
  },
  {
   "cell_type": "markdown",
   "metadata": {
    "id": "U-NK9liSbpvb"
   },
   "source": [
    "Предлагается также решить задачу: \n",
    "\n",
    "### Задача 8\n",
    "Брошены две игральные кости. Найти закон распределения случайной величины $X$, равной сумме выпавших очков. Найти вероятности событий ${X <= 4}$, ${X > 4}$\n",
    "\n",
    "_Ответ: закон распределения случайной величины , вероятности событий  𝑋<=4 и 𝑋>4_"
   ]
  },
  {
   "cell_type": "code",
   "execution_count": null,
   "metadata": {},
   "outputs": [],
   "source": []
  },
  {
   "cell_type": "markdown",
   "metadata": {
    "id": "shgW4D83awjK"
   },
   "source": [
    "## Условные вероятности"
   ]
  },
  {
   "cell_type": "markdown",
   "metadata": {
    "id": "Fbu1RFZwWZrk"
   },
   "source": [
    "### Задача 9\n",
    "Из колоды (36 карт) вынимают последовательно без возвращения две карты. Найти вероятность того, что первой картой была шестерка, а второй — семерка. Найти условную вероятность того же события при условии, что обе карты бубновой масти.\n",
    "\n",
    "_Ответы: .0127, 0.0008_"
   ]
  },
  {
   "cell_type": "code",
   "execution_count": 196,
   "metadata": {},
   "outputs": [
    {
     "data": {
      "text/plain": [
       "('6H', 'QC')"
      ]
     },
     "execution_count": 196,
     "metadata": {},
     "output_type": "execute_result"
    }
   ],
   "source": [
    "def simulate_draws():\n",
    "    global first_card, second_card\n",
    "    deck = [rank + suit for rank in '6789TJQKA' for suit in 'CDHS'] # Формируем колоду. D - бубновые карты\n",
    "    random.shuffle(deck)\n",
    "    first_card = deck.pop()\n",
    "    second_card = deck.pop()\n",
    "    return first_card, second_card\n",
    "\n",
    "simulate_draws()"
   ]
  },
  {
   "cell_type": "code",
   "execution_count": 204,
   "metadata": {},
   "outputs": [],
   "source": [
    "n = 100000\n",
    "\n",
    "# событие А - 1 карта шестерка, 2 карта семерка\n",
    "# событие B - 1 карта шестерка, 2 карта семерка (обе бубновые)\n",
    "count_A = 0\n",
    "count_B = 0\n",
    "\n",
    "for _ in range(n):\n",
    "    simulate_draws()\n",
    "    if first_card[0] == '6' and second_card[0] == '7':\n",
    "        count_A += 1\n",
    "    if first_card == '6D' and second_card == '7D':\n",
    "        count_B += 1"
   ]
  },
  {
   "cell_type": "code",
   "execution_count": 205,
   "metadata": {},
   "outputs": [
    {
     "name": "stdout",
     "output_type": "stream",
     "text": [
      "1 карта шестерка, 2 карта семерка - вероятность 0.01268\n",
      "1 карта шестерка, 2 карта семерка, обе бубновые - вероятность 0.00084\n"
     ]
    }
   ],
   "source": [
    "print(f'1 карта шестерка, 2 карта семерка - вероятность {count_A/n}')\n",
    "print(f'1 карта шестерка, 2 карта семерка, обе бубновые - вероятность {count_B/n}')"
   ]
  },
  {
   "cell_type": "markdown",
   "metadata": {
    "id": "hNVxtaz5c57b"
   },
   "source": [
    "Предлагается также решить задачу: \n",
    "\n",
    "### Задача 10\n",
    "Из урны, содержащей два белых и три черных шара, последовательно извлекают два шара; вынутые шары не возвращаются. Если первый шар оказался черным, то перед вторым извлечением в урну добавляют белый шар. В противном случае состав оставшихся шаров не меняют. Найти вероятности событий:\n",
    "\n",
    "$A$ = {извлечены два белых шара},\n",
    "\n",
    "$B$ = {извлечены два черных шара}\n",
    "\n",
    "Указание. Пусть событие $C_1$ = {первый шар белый}, событие $C_2$ = {второй шар белый}. Тогда $A = C_1C_2$, $B = \\overline C_1 \\overline C_2$ \n",
    "\n",
    "_Ответы: 0.1, 0.24_"
   ]
  },
  {
   "cell_type": "code",
   "execution_count": 91,
   "metadata": {},
   "outputs": [],
   "source": [
    "n = 100000\n",
    "\n",
    "def grab_balls():\n",
    "    count_A = 0\n",
    "    count_B = 0\n",
    "    for _ in range(n):\n",
    "        urn = ['white']*2 + ['black']*3\n",
    "        grab_1 = urn.pop(random.randint(0, len(urn)-1))\n",
    "        if grab_1 == 'black':\n",
    "            urn.append('white')\n",
    "        grab_2 = urn.pop(random.randint(0, len(urn)-1))\n",
    "\n",
    "        if grab_1 == 'white' and grab_2 == 'white':\n",
    "            count_A +=1\n",
    "        if grab_1 == 'black' and grab_2 == 'black':\n",
    "            count_B +=1\n",
    "    return count_A, count_B"
   ]
  },
  {
   "cell_type": "code",
   "execution_count": 92,
   "metadata": {},
   "outputs": [
    {
     "name": "stdout",
     "output_type": "stream",
     "text": [
      "Извлечены 2 белых шара - вероятность 0.10007\n",
      "Извлечены 2 черных шара - вероятность 0.2406\n"
     ]
    }
   ],
   "source": [
    "count_A, count_B = grab_balls()\n",
    "print(f'Извлечены 2 белых шара - вероятность {count_A/n}')\n",
    "print(f'Извлечены 2 черных шара - вероятность {count_B/n}')"
   ]
  }
 ],
 "metadata": {
  "colab": {
   "collapsed_sections": [],
   "name": "Практика к занятию 11.ipynb",
   "provenance": []
  },
  "kernelspec": {
   "display_name": "Python 3",
   "language": "python",
   "name": "python3"
  },
  "language_info": {
   "codemirror_mode": {
    "name": "ipython",
    "version": 3
   },
   "file_extension": ".py",
   "mimetype": "text/x-python",
   "name": "python",
   "nbconvert_exporter": "python",
   "pygments_lexer": "ipython3",
   "version": "3.12.5"
  }
 },
 "nbformat": 4,
 "nbformat_minor": 1
}
