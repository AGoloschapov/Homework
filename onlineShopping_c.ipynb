{
 "cells": [
  {
   "cell_type": "markdown",
   "metadata": {
    "cellId": "fcbf6fbf-2b56-4f42-a4fb-7811fa6a6f80"
   },
   "source": [
    "В файле <i>orders</i> представлена информация о заказах в онлайн-магазине.\n",
    "```\n",
    "OrderID - ID Заказа,\n",
    "UserID - ID клиента,\n",
    "OrderTime - время заказа,\n",
    "items - список элементов в заказе, каждый элемент описан словарем:\n",
    "    ItemID  - ID продукта, \n",
    "    price - цена единицы товара, \n",
    "    quantity - количество единиц товара в заказе\n",
    "```\n",
    "В файле <i>categories</i> представлена информация о категории товаров.\n",
    "```\n",
    "ItemID - ID продукта,\n",
    "Category - категория продукта,\n",
    "ParentCategory - более крупная категория продукта\n",
    "```"
   ]
  },
  {
   "cell_type": "markdown",
   "metadata": {
    "cellId": "c2366c6a-18f2-4dda-95d9-a80b59612f29"
   },
   "source": [
    "## Анализ логов продуктового магазина"
   ]
  },
  {
   "cell_type": "markdown",
   "metadata": {
    "cellId": "e534da09-d249-4101-af31-2d3a7b264697",
    "execution_id": "d9694136-09e6-49f8-81b9-063ed9896e0e"
   },
   "source": [
    "Представьте, что вы работаете аналитиком онлайн-магазина и ваша цель - повысить GMV (суммарную выручку от продажи товаров). Для этого вы хотите провести ряд исследований и придумать какие-то меры для увеличения выручки."
   ]
  },
  {
   "cell_type": "markdown",
   "metadata": {},
   "source": [
    "* Определите, какого числа было сделано больше всего заказов?\n",
    "* Найдите топ-3 ParentCategory по GMV (суммарная выручка, которую принесла продажа товаров этой категории)\n",
    "* Напишите функцию, которая принимает на вход OrderID и рекомендует ItemID продукта для корзины этого заказа. Проверьте работу этой функции."
   ]
  },
  {
   "cell_type": "code",
   "execution_count": 1,
   "metadata": {
    "cellId": "o451uej02dbxv838otnfia",
    "execution": {
     "iopub.execute_input": "2024-09-03T06:53:50.442286Z",
     "iopub.status.busy": "2024-09-03T06:53:50.441271Z",
     "iopub.status.idle": "2024-09-03T06:53:50.459492Z",
     "shell.execute_reply": "2024-09-03T06:53:50.458783Z",
     "shell.execute_reply.started": "2024-09-03T06:53:50.442232Z"
    },
    "tags": []
   },
   "outputs": [],
   "source": [
    "import pandas as pd"
   ]
  },
  {
   "cell_type": "code",
   "execution_count": 2,
   "metadata": {
    "cellId": "1e2c2f81-5469-4476-ba2b-3b8af2264bf3",
    "execution": {
     "iopub.execute_input": "2024-09-03T06:53:52.475031Z",
     "iopub.status.busy": "2024-09-03T06:53:52.473829Z",
     "iopub.status.idle": "2024-09-03T06:53:52.531274Z",
     "shell.execute_reply": "2024-09-03T06:53:52.530599Z",
     "shell.execute_reply.started": "2024-09-03T06:53:52.474992Z"
    },
    "tags": []
   },
   "outputs": [],
   "source": [
    "categories = pd.read_pickle('data/categories.pkl')\n",
    "orders = pd.read_pickle('data/orders.pkl')"
   ]
  },
  {
   "cell_type": "code",
   "execution_count": 67,
   "metadata": {},
   "outputs": [
    {
     "data": {
      "text/html": [
       "<div>\n",
       "<style scoped>\n",
       "    .dataframe tbody tr th:only-of-type {\n",
       "        vertical-align: middle;\n",
       "    }\n",
       "\n",
       "    .dataframe tbody tr th {\n",
       "        vertical-align: top;\n",
       "    }\n",
       "\n",
       "    .dataframe thead th {\n",
       "        text-align: right;\n",
       "    }\n",
       "</style>\n",
       "<table border=\"1\" class=\"dataframe\">\n",
       "  <thead>\n",
       "    <tr style=\"text-align: right;\">\n",
       "      <th></th>\n",
       "      <th>OrderID</th>\n",
       "      <th>UserID</th>\n",
       "      <th>OrderTime</th>\n",
       "      <th>items</th>\n",
       "      <th>Date</th>\n",
       "      <th>ItemID</th>\n",
       "      <th>price</th>\n",
       "      <th>quantity</th>\n",
       "      <th>revenue</th>\n",
       "    </tr>\n",
       "  </thead>\n",
       "  <tbody>\n",
       "    <tr>\n",
       "      <th>0</th>\n",
       "      <td>90659865</td>\n",
       "      <td>1.609460e+18</td>\n",
       "      <td>2021-01-01</td>\n",
       "      <td>{'ItemID': '413736', 'price': 36.72, 'quantity...</td>\n",
       "      <td>2021-01-01</td>\n",
       "      <td>413736</td>\n",
       "      <td>36.72</td>\n",
       "      <td>2</td>\n",
       "      <td>73.44</td>\n",
       "    </tr>\n",
       "    <tr>\n",
       "      <th>0</th>\n",
       "      <td>90659865</td>\n",
       "      <td>1.609460e+18</td>\n",
       "      <td>2021-01-01</td>\n",
       "      <td>{'ItemID': '523171', 'price': 90.32, 'quantity...</td>\n",
       "      <td>2021-01-01</td>\n",
       "      <td>523171</td>\n",
       "      <td>90.32</td>\n",
       "      <td>1</td>\n",
       "      <td>90.32</td>\n",
       "    </tr>\n",
       "    <tr>\n",
       "      <th>0</th>\n",
       "      <td>90659865</td>\n",
       "      <td>1.609460e+18</td>\n",
       "      <td>2021-01-01</td>\n",
       "      <td>{'ItemID': '452831', 'price': 223.11, 'quantit...</td>\n",
       "      <td>2021-01-01</td>\n",
       "      <td>452831</td>\n",
       "      <td>223.11</td>\n",
       "      <td>1</td>\n",
       "      <td>223.11</td>\n",
       "    </tr>\n",
       "    <tr>\n",
       "      <th>0</th>\n",
       "      <td>90659865</td>\n",
       "      <td>1.609460e+18</td>\n",
       "      <td>2021-01-01</td>\n",
       "      <td>{'ItemID': '303673', 'price': 59.9, 'quantity'...</td>\n",
       "      <td>2021-01-01</td>\n",
       "      <td>303673</td>\n",
       "      <td>59.90</td>\n",
       "      <td>7</td>\n",
       "      <td>419.30</td>\n",
       "    </tr>\n",
       "    <tr>\n",
       "      <th>0</th>\n",
       "      <td>90659865</td>\n",
       "      <td>1.609460e+18</td>\n",
       "      <td>2021-01-01</td>\n",
       "      <td>{'ItemID': '318193', 'price': 319.91, 'quantit...</td>\n",
       "      <td>2021-01-01</td>\n",
       "      <td>318193</td>\n",
       "      <td>319.91</td>\n",
       "      <td>2</td>\n",
       "      <td>639.82</td>\n",
       "    </tr>\n",
       "  </tbody>\n",
       "</table>\n",
       "</div>"
      ],
      "text/plain": [
       "    OrderID        UserID   OrderTime  \\\n",
       "0  90659865  1.609460e+18  2021-01-01   \n",
       "0  90659865  1.609460e+18  2021-01-01   \n",
       "0  90659865  1.609460e+18  2021-01-01   \n",
       "0  90659865  1.609460e+18  2021-01-01   \n",
       "0  90659865  1.609460e+18  2021-01-01   \n",
       "\n",
       "                                               items        Date  ItemID  \\\n",
       "0  {'ItemID': '413736', 'price': 36.72, 'quantity...  2021-01-01  413736   \n",
       "0  {'ItemID': '523171', 'price': 90.32, 'quantity...  2021-01-01  523171   \n",
       "0  {'ItemID': '452831', 'price': 223.11, 'quantit...  2021-01-01  452831   \n",
       "0  {'ItemID': '303673', 'price': 59.9, 'quantity'...  2021-01-01  303673   \n",
       "0  {'ItemID': '318193', 'price': 319.91, 'quantit...  2021-01-01  318193   \n",
       "\n",
       "    price  quantity  revenue  \n",
       "0   36.72         2    73.44  \n",
       "0   90.32         1    90.32  \n",
       "0  223.11         1   223.11  \n",
       "0   59.90         7   419.30  \n",
       "0  319.91         2   639.82  "
      ]
     },
     "execution_count": 67,
     "metadata": {},
     "output_type": "execute_result"
    }
   ],
   "source": [
    "orders.head()"
   ]
  },
  {
   "cell_type": "code",
   "execution_count": 13,
   "metadata": {},
   "outputs": [
    {
     "data": {
      "text/html": [
       "<div>\n",
       "<style scoped>\n",
       "    .dataframe tbody tr th:only-of-type {\n",
       "        vertical-align: middle;\n",
       "    }\n",
       "\n",
       "    .dataframe tbody tr th {\n",
       "        vertical-align: top;\n",
       "    }\n",
       "\n",
       "    .dataframe thead th {\n",
       "        text-align: right;\n",
       "    }\n",
       "</style>\n",
       "<table border=\"1\" class=\"dataframe\">\n",
       "  <thead>\n",
       "    <tr style=\"text-align: right;\">\n",
       "      <th></th>\n",
       "      <th>ItemID</th>\n",
       "      <th>Category</th>\n",
       "      <th>ParentCategory</th>\n",
       "    </tr>\n",
       "  </thead>\n",
       "  <tbody>\n",
       "    <tr>\n",
       "      <th>0</th>\n",
       "      <td>1000002</td>\n",
       "      <td>Сладости для диабетиков</td>\n",
       "      <td>Сладости</td>\n",
       "    </tr>\n",
       "    <tr>\n",
       "      <th>1</th>\n",
       "      <td>1000046</td>\n",
       "      <td>Вода</td>\n",
       "      <td>Напитки</td>\n",
       "    </tr>\n",
       "    <tr>\n",
       "      <th>2</th>\n",
       "      <td>1000048</td>\n",
       "      <td>Сладости для диабетиков</td>\n",
       "      <td>Сладости</td>\n",
       "    </tr>\n",
       "    <tr>\n",
       "      <th>3</th>\n",
       "      <td>1000049</td>\n",
       "      <td>Вода</td>\n",
       "      <td>Напитки</td>\n",
       "    </tr>\n",
       "    <tr>\n",
       "      <th>4</th>\n",
       "      <td>1000061</td>\n",
       "      <td>Фрукты</td>\n",
       "      <td>Овощи и фрукты</td>\n",
       "    </tr>\n",
       "  </tbody>\n",
       "</table>\n",
       "</div>"
      ],
      "text/plain": [
       "    ItemID                 Category  ParentCategory\n",
       "0  1000002  Сладости для диабетиков        Сладости\n",
       "1  1000046                     Вода         Напитки\n",
       "2  1000048  Сладости для диабетиков        Сладости\n",
       "3  1000049                     Вода         Напитки\n",
       "4  1000061                   Фрукты  Овощи и фрукты"
      ]
     },
     "execution_count": 13,
     "metadata": {},
     "output_type": "execute_result"
    }
   ],
   "source": [
    "categories.head()"
   ]
  },
  {
   "cell_type": "code",
   "execution_count": null,
   "metadata": {},
   "outputs": [],
   "source": [
    "# 1.Определите, какого числа было сделано больше всего заказов?"
   ]
  },
  {
   "cell_type": "code",
   "execution_count": 14,
   "metadata": {
    "execution": {
     "iopub.execute_input": "2024-09-03T06:54:17.124918Z",
     "iopub.status.busy": "2024-09-03T06:54:17.123862Z",
     "iopub.status.idle": "2024-09-03T06:54:17.173323Z",
     "shell.execute_reply": "2024-09-03T06:54:17.172546Z",
     "shell.execute_reply.started": "2024-09-03T06:54:17.124888Z"
    },
    "tags": []
   },
   "outputs": [],
   "source": [
    "orders['OrderTime'] = pd.to_datetime(orders['OrderTime']).dt.date"
   ]
  },
  {
   "cell_type": "code",
   "execution_count": 37,
   "metadata": {},
   "outputs": [
    {
     "data": {
      "text/plain": [
       "OrderTime\n",
       "2021-01-01     75\n",
       "2021-01-02    154\n",
       "2021-01-03    164\n",
       "2021-01-04    212\n",
       "2021-01-05    226\n",
       "dtype: int64"
      ]
     },
     "execution_count": 37,
     "metadata": {},
     "output_type": "execute_result"
    }
   ],
   "source": [
    "order_by_date = orders.groupby('OrderTime').size()\n",
    "order_by_date.head()"
   ]
  },
  {
   "cell_type": "code",
   "execution_count": 38,
   "metadata": {},
   "outputs": [
    {
     "data": {
      "text/plain": [
       "np.int64(342)"
      ]
     },
     "execution_count": 38,
     "metadata": {},
     "output_type": "execute_result"
    }
   ],
   "source": [
    "max_orders = order_by_date.max()\n",
    "max_orders"
   ]
  },
  {
   "cell_type": "code",
   "execution_count": 40,
   "metadata": {},
   "outputs": [
    {
     "name": "stdout",
     "output_type": "stream",
     "text": [
      "2021-02-05\n"
     ]
    }
   ],
   "source": [
    "max_orders_date = order_by_date[order_by_date == max_orders].index[0]"
   ]
  },
  {
   "cell_type": "code",
   "execution_count": 94,
   "metadata": {},
   "outputs": [
    {
     "name": "stdout",
     "output_type": "stream",
     "text": [
      "Максимальное число заказов произошло 2021-02-05 и составило 342 шт.\n"
     ]
    }
   ],
   "source": [
    "print(f'Максимальное число заказов произошло {max_orders_date} и составило {max_orders} шт.')"
   ]
  },
  {
   "cell_type": "code",
   "execution_count": null,
   "metadata": {},
   "outputs": [],
   "source": [
    "# 2.Найдите топ-3 ParentCategory по GMV (суммарная выручка, которую принесла продажа товаров этой категории)"
   ]
  },
  {
   "cell_type": "code",
   "execution_count": 60,
   "metadata": {},
   "outputs": [],
   "source": [
    "orders = orders.explode('items')"
   ]
  },
  {
   "cell_type": "code",
   "execution_count": 63,
   "metadata": {},
   "outputs": [],
   "source": [
    "orders['ItemID'] = orders['items'].apply(lambda x: x['ItemID'])\n",
    "orders['price'] = orders['items'].apply(lambda x: x['price'])\n",
    "orders['quantity'] = orders['items'].apply(lambda x: x['quantity'])"
   ]
  },
  {
   "cell_type": "code",
   "execution_count": 66,
   "metadata": {},
   "outputs": [],
   "source": [
    "orders['revenue'] = orders['price'] * orders['quantity']"
   ]
  },
  {
   "cell_type": "code",
   "execution_count": 71,
   "metadata": {},
   "outputs": [
    {
     "data": {
      "text/html": [
       "<div>\n",
       "<style scoped>\n",
       "    .dataframe tbody tr th:only-of-type {\n",
       "        vertical-align: middle;\n",
       "    }\n",
       "\n",
       "    .dataframe tbody tr th {\n",
       "        vertical-align: top;\n",
       "    }\n",
       "\n",
       "    .dataframe thead th {\n",
       "        text-align: right;\n",
       "    }\n",
       "</style>\n",
       "<table border=\"1\" class=\"dataframe\">\n",
       "  <thead>\n",
       "    <tr style=\"text-align: right;\">\n",
       "      <th></th>\n",
       "      <th>OrderID</th>\n",
       "      <th>UserID</th>\n",
       "      <th>OrderTime</th>\n",
       "      <th>items</th>\n",
       "      <th>Date</th>\n",
       "      <th>ItemID</th>\n",
       "      <th>price</th>\n",
       "      <th>quantity</th>\n",
       "      <th>revenue</th>\n",
       "      <th>Category</th>\n",
       "      <th>ParentCategory</th>\n",
       "    </tr>\n",
       "  </thead>\n",
       "  <tbody>\n",
       "    <tr>\n",
       "      <th>0</th>\n",
       "      <td>90659865</td>\n",
       "      <td>1.609460e+18</td>\n",
       "      <td>2021-01-01</td>\n",
       "      <td>{'ItemID': '413736', 'price': 36.72, 'quantity...</td>\n",
       "      <td>2021-01-01</td>\n",
       "      <td>413736</td>\n",
       "      <td>36.72</td>\n",
       "      <td>2</td>\n",
       "      <td>73.44</td>\n",
       "      <td>Мороженое</td>\n",
       "      <td>Молочная продукция</td>\n",
       "    </tr>\n",
       "    <tr>\n",
       "      <th>1</th>\n",
       "      <td>90659865</td>\n",
       "      <td>1.609460e+18</td>\n",
       "      <td>2021-01-01</td>\n",
       "      <td>{'ItemID': '523171', 'price': 90.32, 'quantity...</td>\n",
       "      <td>2021-01-01</td>\n",
       "      <td>523171</td>\n",
       "      <td>90.32</td>\n",
       "      <td>1</td>\n",
       "      <td>90.32</td>\n",
       "      <td>Полуфабрикаты</td>\n",
       "      <td>Бакалея</td>\n",
       "    </tr>\n",
       "    <tr>\n",
       "      <th>2</th>\n",
       "      <td>90659865</td>\n",
       "      <td>1.609460e+18</td>\n",
       "      <td>2021-01-01</td>\n",
       "      <td>{'ItemID': '452831', 'price': 223.11, 'quantit...</td>\n",
       "      <td>2021-01-01</td>\n",
       "      <td>452831</td>\n",
       "      <td>223.11</td>\n",
       "      <td>1</td>\n",
       "      <td>223.11</td>\n",
       "      <td>Овощные смеси</td>\n",
       "      <td>Овощи и фрукты</td>\n",
       "    </tr>\n",
       "    <tr>\n",
       "      <th>3</th>\n",
       "      <td>90659865</td>\n",
       "      <td>1.609460e+18</td>\n",
       "      <td>2021-01-01</td>\n",
       "      <td>{'ItemID': '303673', 'price': 59.9, 'quantity'...</td>\n",
       "      <td>2021-01-01</td>\n",
       "      <td>303673</td>\n",
       "      <td>59.90</td>\n",
       "      <td>7</td>\n",
       "      <td>419.30</td>\n",
       "      <td>Фрукты</td>\n",
       "      <td>Овощи и фрукты</td>\n",
       "    </tr>\n",
       "    <tr>\n",
       "      <th>4</th>\n",
       "      <td>90659865</td>\n",
       "      <td>1.609460e+18</td>\n",
       "      <td>2021-01-01</td>\n",
       "      <td>{'ItemID': '318193', 'price': 319.91, 'quantit...</td>\n",
       "      <td>2021-01-01</td>\n",
       "      <td>318193</td>\n",
       "      <td>319.91</td>\n",
       "      <td>2</td>\n",
       "      <td>639.82</td>\n",
       "      <td>Фрукты</td>\n",
       "      <td>Овощи и фрукты</td>\n",
       "    </tr>\n",
       "  </tbody>\n",
       "</table>\n",
       "</div>"
      ],
      "text/plain": [
       "    OrderID        UserID   OrderTime  \\\n",
       "0  90659865  1.609460e+18  2021-01-01   \n",
       "1  90659865  1.609460e+18  2021-01-01   \n",
       "2  90659865  1.609460e+18  2021-01-01   \n",
       "3  90659865  1.609460e+18  2021-01-01   \n",
       "4  90659865  1.609460e+18  2021-01-01   \n",
       "\n",
       "                                               items        Date  ItemID  \\\n",
       "0  {'ItemID': '413736', 'price': 36.72, 'quantity...  2021-01-01  413736   \n",
       "1  {'ItemID': '523171', 'price': 90.32, 'quantity...  2021-01-01  523171   \n",
       "2  {'ItemID': '452831', 'price': 223.11, 'quantit...  2021-01-01  452831   \n",
       "3  {'ItemID': '303673', 'price': 59.9, 'quantity'...  2021-01-01  303673   \n",
       "4  {'ItemID': '318193', 'price': 319.91, 'quantit...  2021-01-01  318193   \n",
       "\n",
       "    price  quantity  revenue       Category      ParentCategory  \n",
       "0   36.72         2    73.44      Мороженое  Молочная продукция  \n",
       "1   90.32         1    90.32  Полуфабрикаты             Бакалея  \n",
       "2  223.11         1   223.11  Овощные смеси      Овощи и фрукты  \n",
       "3   59.90         7   419.30         Фрукты      Овощи и фрукты  \n",
       "4  319.91         2   639.82         Фрукты      Овощи и фрукты  "
      ]
     },
     "execution_count": 71,
     "metadata": {},
     "output_type": "execute_result"
    }
   ],
   "source": [
    "orders_categories = pd.merge(orders, categories, on = 'ItemID')\n",
    "orders_categories.head()"
   ]
  },
  {
   "cell_type": "code",
   "execution_count": 77,
   "metadata": {},
   "outputs": [
    {
     "data": {
      "text/plain": [
       "ParentCategory\n",
       "Бакалея            25223205.54\n",
       "Бытовая химия       6690247.78\n",
       "Для детей           2684441.54\n",
       "Для дома и сада     1706359.70\n",
       "Для праздника        406776.16\n",
       "Name: revenue, dtype: float64"
      ]
     },
     "execution_count": 77,
     "metadata": {},
     "output_type": "execute_result"
    }
   ],
   "source": [
    "gmv_by_parent_category = orders_categories.groupby('ParentCategory')['revenue'].sum()\n",
    "gmv_by_parent_category.head()"
   ]
  },
  {
   "cell_type": "code",
   "execution_count": 80,
   "metadata": {},
   "outputs": [
    {
     "data": {
      "text/plain": [
       "ParentCategory\n",
       "Мясо, птица, рыба     32268493.46\n",
       "Молочная продукция    27702995.43\n",
       "Овощи и фрукты        27607486.90\n",
       "Name: revenue, dtype: float64"
      ]
     },
     "execution_count": 80,
     "metadata": {},
     "output_type": "execute_result"
    }
   ],
   "source": [
    "top_3 = gmv_by_parent_category.sort_values(ascending=False).head(3)\n",
    "top_3"
   ]
  },
  {
   "cell_type": "code",
   "execution_count": null,
   "metadata": {},
   "outputs": [],
   "source": [
    "# Напишите функцию, которая принимает на вход OrderID и рекомендует ItemID продукта для корзины этого заказа.\n",
    "# Проверьте работу этой функции."
   ]
  },
  {
   "cell_type": "code",
   "execution_count": 89,
   "metadata": {},
   "outputs": [],
   "source": [
    "def recommendation(OrderID):\n",
    "    # Получаем список продуктов и их категории в заказе по OrderID\n",
    "    items_from_order = orders_categories[orders_categories['OrderID'] == OrderID]['ItemID'].tolist()\n",
    "    categories_from_order = orders_categories[orders_categories['OrderID'] == OrderID]['Category'].unique()\n",
    "\n",
    "    # Выбираем из таблицы данные только по категориям, присутствующим в заказе.\n",
    "    # Затем вычисляем наиболее популярные продукты с помощью группировки и обратной сортировки\n",
    "    popular_items = orders_categories[orders_categories['Category'].isin(categories_from_order)]\n",
    "    popular_items = popular_items.groupby('ItemID').size().sort_values(ascending=False)\n",
    "\n",
    "    # Перебираем популярные товары и проверяем, есть ли они в заказе\n",
    "    # Если нет, функция возвращает ItemID (предлагает добавить товар в корзину)\n",
    "    for item in popular_items.index:\n",
    "        if item not in items_from_order:\n",
    "            return item"
   ]
  },
  {
   "cell_type": "code",
   "execution_count": 93,
   "metadata": {},
   "outputs": [
    {
     "name": "stdout",
     "output_type": "stream",
     "text": [
      "Для заказа № 90659865 рекомендуется приобрести товар № 430560\n"
     ]
    }
   ],
   "source": [
    "OrderID = 90659865\n",
    "rec_item = recommendation(OrderID)\n",
    "print(f'Для заказа № {OrderID} рекомендуется приобрести товар № {rec_item}')"
   ]
  }
 ],
 "metadata": {
  "kernelspec": {
   "display_name": "DataSphere Kernel",
   "language": "python",
   "name": "python3"
  },
  "language_info": {
   "codemirror_mode": {
    "name": "ipython",
    "version": 3
   },
   "file_extension": ".py",
   "mimetype": "text/x-python",
   "name": "python",
   "nbconvert_exporter": "python",
   "pygments_lexer": "ipython3",
   "version": "3.12.5"
  },
  "notebookId": "e73e2496-374c-470d-91db-240a39c30c02",
  "notebookPath": "data/onlineShopping.ipynb"
 },
 "nbformat": 4,
 "nbformat_minor": 4
}
